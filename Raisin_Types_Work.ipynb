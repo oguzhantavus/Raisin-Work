{
  "nbformat": 4,
  "nbformat_minor": 0,
  "metadata": {
    "colab": {
      "provenance": []
    },
    "kernelspec": {
      "name": "python3",
      "display_name": "Python 3"
    },
    "language_info": {
      "name": "python"
    }
  },
  "cells": [
    {
      "cell_type": "code",
      "execution_count": null,
      "metadata": {
        "id": "LZsktECHRHO1"
      },
      "outputs": [],
      "source": [
        "import numpy as np\n",
        "import matplotlib.pyplot as plt\n",
        "import pandas as pd\n",
        "\n",
        "dataset = pd.read_excel('Raisin_Dataset.xlsx')\n",
        "X = dataset.iloc[:, :-1].values\n",
        "y = dataset.iloc[:, -1].values\n",
        "\n",
        "from sklearn.model_selection import train_test_split\n",
        "X_train, X_test, y_train, y_test = train_test_split(X, y, test_size = 0.15, random_state = 0)"
      ]
    },
    {
      "cell_type": "code",
      "source": [
        "from sklearn.preprocessing import StandardScaler\n",
        "sc = StandardScaler()\n",
        "X_train = sc.fit_transform(X_train)\n",
        "X_test = sc.transform(X_test)"
      ],
      "metadata": {
        "id": "iWE0Y9c5RnIs"
      },
      "execution_count": null,
      "outputs": []
    },
    {
      "cell_type": "code",
      "source": [
        "from sklearn.ensemble import RandomForestClassifier\n",
        "classifier = RandomForestClassifier(n_estimators = 10, criterion = 'entropy', random_state = 40)\n",
        "classifier.fit(X_train, y_train)"
      ],
      "metadata": {
        "colab": {
          "base_uri": "https://localhost:8080/"
        },
        "id": "l8jnljcZWl1t",
        "outputId": "dee7f1a8-4369-45fc-b056-2cbc6a3acc6e"
      },
      "execution_count": null,
      "outputs": [
        {
          "output_type": "execute_result",
          "data": {
            "text/plain": [
              "RandomForestClassifier(criterion='entropy', n_estimators=10, random_state=40)"
            ]
          },
          "metadata": {},
          "execution_count": 189
        }
      ]
    },
    {
      "cell_type": "code",
      "source": [
        "print(classifier.predict(sc.transform([[36974,565,247,0.99,87562,0.64,997.56]])))"
      ],
      "metadata": {
        "colab": {
          "base_uri": "https://localhost:8080/"
        },
        "id": "Ef2_FnXEWvsb",
        "outputId": "5c875187-fff5-4fe8-f8d1-c9bb6aaefcbc"
      },
      "execution_count": null,
      "outputs": [
        {
          "output_type": "stream",
          "name": "stdout",
          "text": [
            "['Besni']\n"
          ]
        }
      ]
    },
    {
      "cell_type": "code",
      "source": [
        "y_pred = classifier.predict(X_test)\n",
        "print(np.concatenate((y_pred.reshape(len(y_pred),1), y_test.reshape(len(y_test),1)),1))"
      ],
      "metadata": {
        "colab": {
          "base_uri": "https://localhost:8080/"
        },
        "id": "AZNPIAg7Wwnq",
        "outputId": "d4fb40bf-f275-4ee6-c0b9-38c31fd21a42"
      },
      "execution_count": null,
      "outputs": [
        {
          "output_type": "stream",
          "name": "stdout",
          "text": [
            "[['Besni' 'Besni']\n",
            " ['Kecimen' 'Kecimen']\n",
            " ['Besni' 'Kecimen']\n",
            " ['Kecimen' 'Kecimen']\n",
            " ['Besni' 'Besni']\n",
            " ['Besni' 'Besni']\n",
            " ['Besni' 'Besni']\n",
            " ['Kecimen' 'Kecimen']\n",
            " ['Kecimen' 'Kecimen']\n",
            " ['Besni' 'Kecimen']\n",
            " ['Besni' 'Besni']\n",
            " ['Kecimen' 'Kecimen']\n",
            " ['Kecimen' 'Kecimen']\n",
            " ['Kecimen' 'Besni']\n",
            " ['Besni' 'Besni']\n",
            " ['Kecimen' 'Kecimen']\n",
            " ['Besni' 'Kecimen']\n",
            " ['Besni' 'Besni']\n",
            " ['Besni' 'Besni']\n",
            " ['Besni' 'Besni']\n",
            " ['Kecimen' 'Kecimen']\n",
            " ['Besni' 'Besni']\n",
            " ['Besni' 'Besni']\n",
            " ['Besni' 'Besni']\n",
            " ['Besni' 'Besni']\n",
            " ['Kecimen' 'Kecimen']\n",
            " ['Kecimen' 'Kecimen']\n",
            " ['Besni' 'Besni']\n",
            " ['Besni' 'Besni']\n",
            " ['Besni' 'Besni']\n",
            " ['Kecimen' 'Kecimen']\n",
            " ['Besni' 'Besni']\n",
            " ['Kecimen' 'Besni']\n",
            " ['Kecimen' 'Kecimen']\n",
            " ['Besni' 'Besni']\n",
            " ['Besni' 'Besni']\n",
            " ['Kecimen' 'Kecimen']\n",
            " ['Kecimen' 'Kecimen']\n",
            " ['Besni' 'Besni']\n",
            " ['Besni' 'Besni']\n",
            " ['Kecimen' 'Besni']\n",
            " ['Kecimen' 'Kecimen']\n",
            " ['Kecimen' 'Kecimen']\n",
            " ['Besni' 'Besni']\n",
            " ['Besni' 'Besni']\n",
            " ['Besni' 'Besni']\n",
            " ['Kecimen' 'Kecimen']\n",
            " ['Kecimen' 'Kecimen']\n",
            " ['Kecimen' 'Kecimen']\n",
            " ['Besni' 'Besni']\n",
            " ['Kecimen' 'Besni']\n",
            " ['Kecimen' 'Kecimen']\n",
            " ['Kecimen' 'Kecimen']\n",
            " ['Kecimen' 'Kecimen']\n",
            " ['Besni' 'Besni']\n",
            " ['Kecimen' 'Kecimen']\n",
            " ['Kecimen' 'Kecimen']\n",
            " ['Besni' 'Besni']\n",
            " ['Kecimen' 'Kecimen']\n",
            " ['Kecimen' 'Besni']\n",
            " ['Besni' 'Besni']\n",
            " ['Kecimen' 'Kecimen']\n",
            " ['Kecimen' 'Kecimen']\n",
            " ['Besni' 'Besni']\n",
            " ['Besni' 'Kecimen']\n",
            " ['Besni' 'Besni']\n",
            " ['Besni' 'Besni']\n",
            " ['Besni' 'Besni']\n",
            " ['Besni' 'Besni']\n",
            " ['Besni' 'Besni']\n",
            " ['Besni' 'Besni']\n",
            " ['Besni' 'Besni']\n",
            " ['Kecimen' 'Kecimen']\n",
            " ['Besni' 'Besni']\n",
            " ['Kecimen' 'Kecimen']\n",
            " ['Besni' 'Besni']\n",
            " ['Besni' 'Besni']\n",
            " ['Kecimen' 'Kecimen']\n",
            " ['Kecimen' 'Kecimen']\n",
            " ['Kecimen' 'Kecimen']\n",
            " ['Kecimen' 'Kecimen']\n",
            " ['Besni' 'Besni']\n",
            " ['Besni' 'Besni']\n",
            " ['Kecimen' 'Kecimen']\n",
            " ['Besni' 'Besni']\n",
            " ['Besni' 'Besni']\n",
            " ['Besni' 'Besni']\n",
            " ['Besni' 'Besni']\n",
            " ['Kecimen' 'Kecimen']\n",
            " ['Kecimen' 'Kecimen']\n",
            " ['Besni' 'Kecimen']\n",
            " ['Kecimen' 'Kecimen']\n",
            " ['Besni' 'Besni']\n",
            " ['Besni' 'Besni']\n",
            " ['Besni' 'Besni']\n",
            " ['Besni' 'Besni']\n",
            " ['Kecimen' 'Kecimen']\n",
            " ['Besni' 'Besni']\n",
            " ['Besni' 'Besni']\n",
            " ['Kecimen' 'Kecimen']\n",
            " ['Besni' 'Besni']\n",
            " ['Kecimen' 'Kecimen']\n",
            " ['Kecimen' 'Kecimen']\n",
            " ['Besni' 'Besni']\n",
            " ['Besni' 'Besni']\n",
            " ['Besni' 'Besni']\n",
            " ['Besni' 'Besni']\n",
            " ['Kecimen' 'Kecimen']\n",
            " ['Besni' 'Besni']\n",
            " ['Besni' 'Besni']\n",
            " ['Kecimen' 'Kecimen']\n",
            " ['Kecimen' 'Kecimen']\n",
            " ['Besni' 'Besni']\n",
            " ['Kecimen' 'Kecimen']\n",
            " ['Besni' 'Besni']\n",
            " ['Besni' 'Besni']\n",
            " ['Besni' 'Besni']\n",
            " ['Besni' 'Besni']\n",
            " ['Kecimen' 'Kecimen']\n",
            " ['Kecimen' 'Kecimen']\n",
            " ['Besni' 'Besni']\n",
            " ['Besni' 'Besni']\n",
            " ['Besni' 'Besni']\n",
            " ['Besni' 'Besni']\n",
            " ['Kecimen' 'Kecimen']\n",
            " ['Kecimen' 'Kecimen']\n",
            " ['Besni' 'Besni']\n",
            " ['Kecimen' 'Kecimen']\n",
            " ['Kecimen' 'Besni']\n",
            " ['Kecimen' 'Kecimen']\n",
            " ['Kecimen' 'Kecimen']\n",
            " ['Kecimen' 'Besni']\n",
            " ['Besni' 'Besni']\n",
            " ['Besni' 'Besni']\n",
            " ['Kecimen' 'Kecimen']]\n"
          ]
        }
      ]
    },
    {
      "cell_type": "code",
      "source": [
        "from sklearn.metrics import confusion_matrix, accuracy_score\n",
        "cm = confusion_matrix(y_test, y_pred)\n",
        "print(cm)\n",
        "accuracy_score(y_test, y_pred)"
      ],
      "metadata": {
        "colab": {
          "base_uri": "https://localhost:8080/"
        },
        "id": "BUnK9vPFXjHT",
        "outputId": "bb7125bd-bbf1-4c64-d7d5-6b8c058066c0"
      },
      "execution_count": null,
      "outputs": [
        {
          "output_type": "stream",
          "name": "stdout",
          "text": [
            "[[70  7]\n",
            " [ 5 53]]\n"
          ]
        },
        {
          "output_type": "execute_result",
          "data": {
            "text/plain": [
              "0.9111111111111111"
            ]
          },
          "metadata": {},
          "execution_count": 192
        }
      ]
    },
    {
      "cell_type": "markdown",
      "source": [
        "from sklearn.ensemble import RandomForestClassifier\n",
        "classifier = RandomForestClassifier(n_estimators = 10, criterion = 'entropy', random_state = 40,)\n",
        "classifier.fit(X_train, y_train)\n",
        "\n",
        "from sklearn.svm import SVC\n",
        "classifier = SVC(kernel ='rbf', random_state = 0)\n",
        "classifier.fit(X_train, y_train)\n",
        "\n",
        "from sklearn.svm import SVC\n",
        "classifier = SVC(kernel ='linear', random_state = 0)\n",
        "classifier.fit(X_train, y_train)"
      ],
      "metadata": {
        "id": "BorrWfTU8AwO"
      }
    }
  ]
}